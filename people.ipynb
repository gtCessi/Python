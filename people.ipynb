{
  "nbformat": 4,
  "nbformat_minor": 0,
  "metadata": {
    "colab": {
      "name": "people.ipynb",
      "provenance": [],
      "authorship_tag": "ABX9TyNtNMAGTObisNAwx5Vdcl+m",
      "include_colab_link": true
    },
    "kernelspec": {
      "name": "python3",
      "display_name": "Python 3"
    },
    "language_info": {
      "name": "python"
    }
  },
  "cells": [
    {
      "cell_type": "markdown",
      "metadata": {
        "id": "view-in-github",
        "colab_type": "text"
      },
      "source": [
        "<a href=\"https://colab.research.google.com/github/gtCessi/Python/blob/main/people.ipynb\" target=\"_parent\"><img src=\"https://colab.research.google.com/assets/colab-badge.svg\" alt=\"Open In Colab\"/></a>"
      ]
    },
    {
      "cell_type": "code",
      "source": [
        "class People():\n",
        "  def __init__(self, name, age, height_cm, weight_kg):\n",
        "    self.name = name\n",
        "    self.age = age\n",
        "    self.height_cm = height_cm\n",
        "    self.weight_kg = weight_kg\n",
        "\n",
        "  def talk(self):\n",
        "    print(f'Hi, Im {self.name}, Im {self.age} years old. Im {self.height_cm} cm tall and I weight {self.weight_kg} kg')\n",
        "\n",
        "  def like(self, something):\n",
        "    print(f'Hi, I really like {something}')"
      ],
      "metadata": {
        "id": "ESG954tMAeoF"
      },
      "execution_count": null,
      "outputs": []
    },
    {
      "cell_type": "code",
      "source": [
        "jorge = People('jorge', 24, 180, 89)\n",
        "\n",
        "jorge.talk()\n",
        "jorge.like('pudim')"
      ],
      "metadata": {
        "colab": {
          "base_uri": "https://localhost:8080/"
        },
        "id": "KfEZl0C6aegl",
        "outputId": "fe4e75e3-df76-4c38-8e1a-8105bb3cf505"
      },
      "execution_count": null,
      "outputs": [
        {
          "output_type": "stream",
          "name": "stdout",
          "text": [
            "Hi, Im jorge, Im 24 years old. Im 180 cm tall and I weight 89 kg\n",
            "Hi, I really like pudim\n"
          ]
        }
      ]
    },
    {
      "cell_type": "code",
      "execution_count": null,
      "metadata": {
        "id": "Z0y6IZds-uZI"
      },
      "outputs": [],
      "source": [
        "class Identity(People):\n",
        "  def __init__(self, name, age, height_cm, weight_kg, id_number):\n",
        "    self.id_number = id_number\n",
        "    super().__init__(name, age, height_cm, weight_kg)\n",
        "\n",
        "  def get_documents(self):\n",
        "    return f'{self.id_number}, {self.name}'\n",
        "\n",
        "  def info(self):\n",
        "    return print(self.name, self.age, self.height_cm, self.weight_kg)"
      ]
    },
    {
      "cell_type": "code",
      "source": [
        "fulano = People('gabe', 25, 165, 65)\n",
        "id_fulano = Identity('cris', 23, 165, 56.6, 545 )"
      ],
      "metadata": {
        "id": "5GTYOhik_yoN"
      },
      "execution_count": null,
      "outputs": []
    },
    {
      "cell_type": "code",
      "source": [
        "id_cristiano = Identity('cristiano', 24, 187, 89, 423)"
      ],
      "metadata": {
        "id": "e72u2Ta2Nhhx"
      },
      "execution_count": null,
      "outputs": []
    },
    {
      "cell_type": "code",
      "source": [
        "id_cristiano.info()"
      ],
      "metadata": {
        "colab": {
          "base_uri": "https://localhost:8080/"
        },
        "id": "Gf1H_f4WPHoA",
        "outputId": "e262278e-2f26-4c67-a96f-1a7ba27283d6"
      },
      "execution_count": null,
      "outputs": [
        {
          "output_type": "stream",
          "name": "stdout",
          "text": [
            "cristiano 24 187 89\n"
          ]
        }
      ]
    },
    {
      "cell_type": "code",
      "source": [
        "id_cristiano.talk()"
      ],
      "metadata": {
        "colab": {
          "base_uri": "https://localhost:8080/"
        },
        "id": "q6nn1qtePc46",
        "outputId": "70f6ec0f-073b-464d-debe-f6ca59d1c0e6"
      },
      "execution_count": null,
      "outputs": [
        {
          "output_type": "stream",
          "name": "stdout",
          "text": [
            "Hi, Im cristiano, Im 24 years old. Im 187 cm tall and I weight 89 kg\n"
          ]
        }
      ]
    },
    {
      "cell_type": "code",
      "source": [
        "id_fulano.info(fulano)"
      ],
      "metadata": {
        "colab": {
          "base_uri": "https://localhost:8080/"
        },
        "id": "72bqxBIyKuem",
        "outputId": "8a00505a-1e9a-43e9-8614-b9845ac531a7"
      },
      "execution_count": null,
      "outputs": [
        {
          "output_type": "stream",
          "name": "stdout",
          "text": [
            "gabe 25 165 65\n"
          ]
        }
      ]
    },
    {
      "cell_type": "code",
      "source": [
        "id_fulano.get_documents('gabe')"
      ],
      "metadata": {
        "colab": {
          "base_uri": "https://localhost:8080/",
          "height": 35
        },
        "id": "uVeKxsocJTtq",
        "outputId": "7c11597f-010a-44e0-9701-55e51cb485a1"
      },
      "execution_count": null,
      "outputs": [
        {
          "output_type": "execute_result",
          "data": {
            "application/vnd.google.colaboratory.intrinsic+json": {
              "type": "string"
            },
            "text/plain": [
              "'54123, gabe'"
            ]
          },
          "metadata": {},
          "execution_count": 78
        }
      ]
    },
    {
      "cell_type": "code",
      "source": [
        "fulano.talk()"
      ],
      "metadata": {
        "colab": {
          "base_uri": "https://localhost:8080/"
        },
        "id": "x8Q4mg0AAEKx",
        "outputId": "c90ab90b-e3ba-4c4f-c2eb-810d5b576635"
      },
      "execution_count": null,
      "outputs": [
        {
          "output_type": "stream",
          "name": "stdout",
          "text": [
            "Hi, Im gabe, Im 24 years old. Im 125 cm tall and I weight 23 kg\n"
          ]
        }
      ]
    },
    {
      "cell_type": "code",
      "source": [
        "fulano.like('cake')"
      ],
      "metadata": {
        "colab": {
          "base_uri": "https://localhost:8080/"
        },
        "id": "lUbYwl4nAHPu",
        "outputId": "ebf948cd-3d85-46e4-94f5-d8911e636ef7"
      },
      "execution_count": null,
      "outputs": [
        {
          "output_type": "stream",
          "name": "stdout",
          "text": [
            "Hi, I really like cake\n"
          ]
        }
      ]
    }
  ]
}